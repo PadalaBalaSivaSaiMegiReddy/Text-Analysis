{
 "cells": [
  {
   "cell_type": "code",
   "execution_count": 1,
   "metadata": {},
   "outputs": [],
   "source": [
    "#Press Shift+Enter to run the code\n",
    "givenstring=\"Lorem ipsum dolor! diam amet, consetetur Lorem magna. sed diam nonumy eirmod tempor. diam et labore? et diam magna. et diam amet.\""
   ]
  },
  {
   "cell_type": "code",
   "execution_count": 2,
   "metadata": {},
   "outputs": [],
   "source": [
    "class TextAnalyzer(object):\n",
    "    \n",
    "    def __init__ (self, text):\n",
    "        # remove punctuation\n",
    "        formattedText = text.replace('.','').replace('!','').replace('?','').replace(',','')\n",
    "        \n",
    "        # make text lowercase\n",
    "        formattedText = formattedText.lower()\n",
    "        \n",
    "        self.fmtText = formattedText\n",
    "        \n",
    "    def freqAll(self):        \n",
    "        # split text into words\n",
    "        wordList = self.fmtText.split(' ')\n",
    "        \n",
    "        # Create dictionary\n",
    "        freqMap = {}\n",
    "        for word in set(wordList): # use set to remove duplicates in list\n",
    "            freqMap[word] = wordList.count(word)\n",
    "        \n",
    "        return freqMap\n",
    "    \n",
    "    def freqOf(self,word):\n",
    "        # get frequency map\n",
    "        freqDict = self.freqAll()\n",
    "        \n",
    "        if word in freqDict:\n",
    "            return freqDict[word]\n",
    "        else:\n",
    "            return 0"
   ]
  },
  {
   "cell_type": "code",
   "execution_count": 3,
   "metadata": {},
   "outputs": [
    {
     "name": "stdout",
     "output_type": "stream",
     "text": [
      "Formatted Text: lorem ipsum dolor diam amet consetetur lorem magna sed diam nonumy eirmod tempor diam et labore et diam magna et diam amet\n",
      "{'dolor': 1, 'diam': 5, 'ipsum': 1, 'et': 3, 'tempor': 1, 'lorem': 2, 'labore': 1, 'nonumy': 1, 'magna': 2, 'sed': 1, 'consetetur': 1, 'eirmod': 1, 'amet': 2}\n",
      "The word lorem appears 2 times.\n"
     ]
    }
   ],
   "source": [
    "analyzed = TextAnalyzer(givenstring)\n",
    "print(\"Formatted Text:\", analyzed.fmtText)\n",
    "freqMap = analyzed.freqAll()\n",
    "print(freqMap)\n",
    "word = \"lorem\"\n",
    "frequency = analyzed.freqOf(word)\n",
    "print(\"The word\",word,\"appears\",frequency,\"times.\")"
   ]
  }
 ],
 "metadata": {
  "kernelspec": {
   "display_name": "Python 3",
   "language": "python",
   "name": "python3"
  },
  "language_info": {
   "codemirror_mode": {
    "name": "ipython",
    "version": 3
   },
   "file_extension": ".py",
   "mimetype": "text/x-python",
   "name": "python",
   "nbconvert_exporter": "python",
   "pygments_lexer": "ipython3",
   "version": "3.12.3"
  }
 },
 "nbformat": 4,
 "nbformat_minor": 2
}
